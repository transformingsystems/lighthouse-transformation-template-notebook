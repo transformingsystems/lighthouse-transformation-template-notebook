{
  "nbformat": 4,
  "nbformat_minor": 0,
  "metadata": {
    "colab": {
      "name": "lighthouse-transformation-template.ipynb",
      "provenance": []
    },
    "kernelspec": {
      "name": "python3",
      "display_name": "Python 3"
    }
  },
  "cells": [
    {
      "cell_type": "markdown",
      "metadata": {
        "id": "ye93XeliENui",
        "colab_type": "text"
      },
      "source": [
        "# Lighthouse Transformation Scratchbook\n",
        "\n",
        "<img src=\"https://i.ibb.co/qxGXnR9/lighthouse-logo-629x500.png\" alt=\"Lighthouse\" width=\"100\"/>\n",
        "\n",
        "## Get Started\n",
        "Run the following code cells and following the instructions to get started.\n",
        "\n",
        "### **Step 1**\n",
        "Paste the Dataframe shared url generated from Lighthouse below to download and read the dataframe."
      ]
    },
    {
      "cell_type": "code",
      "metadata": {
        "id": "M6F4dFqiCs-_",
        "colab_type": "code",
        "colab": {}
      },
      "source": [
        "DATA_DF_URL = \"<PASTE LIGHTHOUSE URL HERE>\""
      ],
      "execution_count": 0,
      "outputs": []
    },
    {
      "cell_type": "code",
      "metadata": {
        "id": "VGJAEvNw_UZi",
        "colab_type": "code",
        "colab": {}
      },
      "source": [
        "## This is to load hdf file correctly.\n",
        "!pip install numpy==1.15\n",
        "\n",
        "import requests\n",
        "import pandas as pd\n",
        "\n",
        "r = requests.get(DATA_DF_URL, allow_redirects=True)\n",
        "\n",
        "data_filename = \"data.h5\"\n",
        "with open(data_filename, 'wb') as f:\n",
        "  f.write(r.content)\n",
        "\n",
        "data = pd.read_hdf(data_filename, 'data')\n",
        "mappings = pd.read_hdf(data_filename, 'mappings')"
      ],
      "execution_count": 0,
      "outputs": []
    },
    {
      "cell_type": "markdown",
      "metadata": {
        "id": "zfISKyugKZlG",
        "colab_type": "text"
      },
      "source": [
        "### **Step 2**\n",
        "\n",
        "Edit the cell below to add your transformation code"
      ]
    },
    {
      "cell_type": "code",
      "metadata": {
        "id": "6klFRugxDGSq",
        "colab_type": "code",
        "colab": {}
      },
      "source": [
        "def transform(data, mappings):\n",
        "  ## ....\n",
        "  ## Transformation code here\n",
        "  ## ....\n",
        "  return data"
      ],
      "execution_count": 0,
      "outputs": []
    },
    {
      "cell_type": "code",
      "metadata": {
        "id": "FvlTVZaIOoDD",
        "colab_type": "code",
        "colab": {}
      },
      "source": [
        "## Test transformation\n",
        "transform(data, mappings)"
      ],
      "execution_count": 0,
      "outputs": []
    }
  ]
}